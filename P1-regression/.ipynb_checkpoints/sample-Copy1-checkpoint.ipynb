{
 "cells": [
  {
   "cell_type": "code",
   "execution_count": 1,
   "metadata": {},
   "outputs": [],
   "source": [
    "import pandas as pd\n",
    "import numpy as np\n",
    "import matplotlib.pyplot as plt\n",
    "from sklearn.linear_model import LinearRegression\n",
    "from sklearn.ensemble import RandomForestRegressor\n",
    "from rdkit import Chem\n",
    "from rdkit import DataStructs\n",
    "from rdkit.Chem.Fingerprints import FingerprintMols\n",
    "from rdkit.Chem import MACCSkeys\n",
    "from rdkit.Chem import AllChem"
   ]
  },
  {
   "cell_type": "code",
   "execution_count": null,
   "metadata": {},
   "outputs": [],
   "source": [
    "\"\"\"\n",
    "Read in train and test as Pandas DataFrames\n",
    "\"\"\"\n",
    "df_train = pd.read_csv(\"train.csv\", nrows=100)\n",
    "df_test = pd.read_csv(\"test.csv\")\n",
    "print(\"ok\")"
   ]
  },
  {
   "cell_type": "code",
   "execution_count": null,
   "metadata": {
    "scrolled": true
   },
   "outputs": [],
   "source": [
    "#store gap values\n",
    "Y_train = df_train.gap.values\n",
    "#row where testing examples start\n",
    "test_idx = df_train.shape[0]\n",
    "#delete 'Id' column\n",
    "df_test = df_test.drop(['Id'], axis=1)\n",
    "#delete 'gap' column\n",
    "df_train = df_train.drop(['gap'], axis=1)"
   ]
  },
  {
   "cell_type": "code",
   "execution_count": null,
   "metadata": {
    "scrolled": true
   },
   "outputs": [],
   "source": [
    "#merge train and data so we can engineer features\n",
    "df_all = pd.concat((df_train, df_test), axis=0)\n",
    "smiles_len = len(df_all)\n",
    "mol_all = [Chem.MolFromSmiles(x) for x in df_all.smiles.astype(str)]\n",
    "print(\"ok\")"
   ]
  },
  {
   "cell_type": "code",
   "execution_count": 5,
   "metadata": {
    "collapsed": true
   },
   "outputs": [],
   "source": [
    "SSSR_len = np.vstack([Chem.GetSSSR(x) for x in mol_all])\n",
    "df_all['SSSR_len'] = pd.DataFrame(SSSR_len)\n",
    "print(SSSR_len)"
   ]
  },
  {
   "cell_type": "code",
   "execution_count": null,
   "metadata": {},
   "outputs": [],
   "source": [
    "func_group_list = [\"[CX4]\", \"[$([CX2](=C)=C)]\", \"[$([CX3]=[CX3])]\",\"[CX3]=[OX1]\",\n",
    "\"[OX1]=CN\", \"[CX3](=[OX1])O\",\"[CX3](=[OX1])[F,Cl,Br,I]\",\"[NX3][CX3](=[OX1])[#6]\",\n",
    "\"[CX3H1](=O)[#6]\",\"[CX3](=[OX1])(O)O\",\"[CX3](=O)[OX2H1]\",\"[#6][CX3](=O)[#6]\",\n",
    "\"[CX3](=O)[OX1H0-,OX2H1]\",\"[OD2]([#6])[#6]\", \"[H]\", \"[H+]\", \"[+H]\",\"[NX3;H2,H1;!$(NC=O)]\",\n",
    "\"[NX3,NX4+][CX4H]([*])[CX3](=[OX1])[O,N]\",\"[NX3][CX3]=[CX3]\",\"[$(*-[NX2-]-[NX2+]#[NX1]),$(*-[NX2]=[NX2+]=[NX1-])]\",\n",
    "\"[$([NX3](=[OX1])(=[OX1])O),$([NX3+]([OX1-])(=[OX1])O)] \",\"[NX1]#[CX2]\",\"[OX2H]\",\"[OX2H][#6X3]=[#6]\",\"[#6][OX2H]\",\n",
    "\"[OX2H][CX3]=[OX1]\",\"[OX2,OX1-][OX2,OX1-]\",\"[S-][CX3](=S)[#6]\", \"[#16X2H]\", \"[SX2]\", \"[NX3][CX3]=[SX1]\",\"[#16X2H0]\",\n",
    "\"[$([#16X3](=[OX1])[OX2H0]),$([#16X3+]([OX1-])[OX2H0])]\",\"[$([#16X4](=[OX1])(=[OX1])([OX2H,OX1H0-])[OX2][#6]),$([#16X4+2]([OX1-])([OX1-])([OX2H,OX1H0-])[OX2][#6])]\",\n",
    "\"[#6][F,Cl,Br,I]\",\"[F,Cl,Br,I]\", \"[F,Cl,Br,I].[F,Cl,Br,I].[F,Cl,Br,I]\",\"[CX3](=[OX1])[F,Cl,Br,I]\",\"[$([cX2+](:*):*)]\",\n",
    "\"[$([cX3](:*):*),$([cX2+](:*):*)] \",\"[$([cX3](:*):*),$([cX2+](:*):*),$([CX3]=*),$([CX2+]=*)] \",\n",
    "\"[$([nX3](:*):*),$([nX2](:*):*),$([#7X2]=*),$([NX3](=*)=*),$([#7X3+](-*)=*),$([#7X3+H]=*)]\",\n",
    "\"[$([NX4+]),$([NX3]);!$(*=*)&!$(*:*)]\",\"[$([#1X1][$([NX4+]),$([NX3]);!$(*=*)&!$(*:*)])]\",\"[$([SX3]=N)]\", \"[$([NX1]#*)]\",\n",
    "\"[R0;D2][R0;D2][R0;D2][R0;D2]\",\"[cR1]1[cR1][cR1][cR1][cR1][cR1]1\",\"[sX2r5]\",\"*/,\\[R]=;@[R]/,\\*\",\"[cR1]1[cR1][cR1][cR1][cR1][cR1]1.[cR1]1[cR1][cR1][cR1][cR1][cR1]1\",\n",
    "\"c12ccccc1cccc2\",\"[!H0;F,Cl,Br,I,N+,$([OH]-*=[!#6]),+]\",\"[CX3](=O)[OX2H1]\",\"[$([OH]-*=[!#6])]\",\n",
    "\"[$([#16X4](=[OX1])(=[OX1])([#6])[OX2H,OX1H0-]),$([#16X4+2]([OX1-])([OX1-])([#6])[OX2H,OX1H0-])]\",\n",
    "\"[CX3](=[OX1])[F,Cl,Br,I]\", \"[NX2-]\",\"[OX2H+]=*\",\"[OX3H2+]\", \"[$([cX2+](:*):*)]\", \"[$([NX1-]=[NX2+]=[NX1-]),$([NX1]#[NX2+]-[NX1-2])]\", \"[+1]~*~*~[-1]\",\n",
    "\"[#6,#7;R0]=[#8]\", \"[!$([#6,H0,-,-2,-3])]\", \"[!H0;#7,#8,#9]\", \"[O,N;!H0]-*~*-*=[$([C,N;R0]=O)]\", \"[#6;X3v3+0]\", \"[#7;X2v4+0]\"]"
   ]
  },
  {
   "cell_type": "code",
   "execution_count": 7,
   "metadata": {},
   "outputs": [
    {
     "data": {
      "text/plain": [
       "'\\nExample Feature Engineering\\n\\nthis calculates the length of each smile string and adds a feature column with those lengths\\nNote: this is NOT a good feature and will result in a lower score!\\n'"
      ]
     },
     "execution_count": 7,
     "metadata": {},
     "output_type": "execute_result"
    }
   ],
   "source": [
    "for term in func_group_list:\n",
    "    smarts = Chem.MolFromSmarts(term)\n",
    "    rel_count = np.vstack([len(Chem.Mol.GetSubstructMatches(x, smarts, uniquify = True)) for x in mol_all])\n",
    "    # adds these guys to the data table, len might be broken\n",
    "    df_all['rel_count_' + term] = pd.DataFrame(rel_count)"
   ]
  },
  {
   "cell_type": "code",
   "execution_count": 8,
   "metadata": {},
   "outputs": [
    {
     "name": "stdout",
     "output_type": "stream",
     "text": [
      "Train features: (1000000, 256)\n",
      "Train gap: (1000000,)\n",
      "Test features: (824230, 256)\n"
     ]
    }
   ],
   "source": [
    "morgan = [AllChem.GetMorganFingerprintAsBitVect(x,2,nBits=1024) for x in mol_all]\n",
    "for i in range(1024):\n",
    "    morgVec = np.vstack(morgan[x][i] for x in range(len(mol_all)))\n",
    "    df_all['morgVec'+str(i)] = pd.Dataframe(morgVec)"
   ]
  },
  {
   "cell_type": "code",
   "execution_count": 9,
   "metadata": {
    "collapsed": true
   },
   "outputs": [],
   "source": []
  },
  {
   "cell_type": "code",
   "execution_count": 10,
   "metadata": {
    "collapsed": true
   },
   "outputs": [],
   "source": []
  },
  {
   "cell_type": "code",
   "execution_count": null,
   "metadata": {
    "collapsed": true
   },
   "outputs": [],
   "source": []
  },
  {
   "cell_type": "code",
   "execution_count": null,
   "metadata": {
    "collapsed": true
   },
   "outputs": [],
   "source": []
  },
  {
   "cell_type": "code",
   "execution_count": null,
   "metadata": {
    "collapsed": true
   },
   "outputs": [],
   "source": []
  }
 ],
 "metadata": {
  "anaconda-cloud": {},
  "kernelspec": {
   "display_name": "Python 3",
   "language": "python",
   "name": "python3"
  },
  "language_info": {
   "codemirror_mode": {
    "name": "ipython",
    "version": 3
   },
   "file_extension": ".py",
   "mimetype": "text/x-python",
   "name": "python",
   "nbconvert_exporter": "python",
   "pygments_lexer": "ipython3",
   "version": "3.6.4"
  }
 },
 "nbformat": 4,
 "nbformat_minor": 1
}
